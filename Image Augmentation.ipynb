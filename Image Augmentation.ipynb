{
 "cells": [
  {
   "attachments": {},
   "cell_type": "markdown",
   "metadata": {},
   "source": [
    "### Using Datagen"
   ]
  },
  {
   "cell_type": "code",
   "execution_count": 1,
   "metadata": {},
   "outputs": [],
   "source": [
    "from keras.preprocessing.image import ImageDataGenerator\n",
    "from skimage import io"
   ]
  },
  {
   "cell_type": "code",
   "execution_count": 2,
   "metadata": {},
   "outputs": [],
   "source": [
    "datagen = ImageDataGenerator(\n",
    "                    rotation_range=30,\n",
    "                    width_shift_range=0.1,\n",
    "                    height_shift_range=0.1,\n",
    "                    shear_range=0.1,\n",
    "                    zoom_range=0.1,\n",
    "                    fill_mode='nearest',\n",
    "                    cval=255\n",
    "                    )"
   ]
  },
  {
   "cell_type": "code",
   "execution_count": 3,
   "metadata": {},
   "outputs": [],
   "source": [
    "import numpy as np\n",
    "import os\n",
    "from PIL import Image"
   ]
  },
  {
   "cell_type": "code",
   "execution_count": null,
   "metadata": {},
   "outputs": [],
   "source": [
    "img_dir = 'D:/Bambhari/final_dataset/Swan/'\n",
    "dataset = []\n",
    "par_images = os.listdir(img_dir)\n",
    "\n",
    "for i, name in enumerate(par_images):\n",
    "    if name.split('.')[1] == 'png':\n",
    "        print(f\"Processing image: {name}\")\n",
    "        image = io.imread(os.path.join(img_dir, name))\n",
    "        dataset.append(np.array(image))\n",
    "    else:\n",
    "        print(f\"Ignoring non-PNG file: {name}\")\n",
    "\n",
    "x = np.array(dataset)\n",
    "print(x.shape)\n",
    "\n",
    "x = x.reshape((9, 1, 1, 1))\n",
    "print(x.shape)"
   ]
  },
  {
   "cell_type": "code",
   "execution_count": null,
   "metadata": {},
   "outputs": [],
   "source": [
    "i = 0\n",
    "for batch in datagen.flow(x, batch_size = 16,\n",
    "                          save_to_dir = 'D:/Bambhari/Augmented Images/Swan/',\n",
    "                          save_prefix = 'aug',\n",
    "                          save_format = 'png'):\n",
    "    i += 1\n",
    "    if i > 150:\n",
    "        break"
   ]
  },
  {
   "attachments": {},
   "cell_type": "markdown",
   "metadata": {},
   "source": [
    "### Using Augmentor library"
   ]
  },
  {
   "cell_type": "code",
   "execution_count": 1,
   "metadata": {},
   "outputs": [],
   "source": [
    "import Augmentor as aug"
   ]
  },
  {
   "cell_type": "code",
   "execution_count": 36,
   "metadata": {},
   "outputs": [
    {
     "name": "stdout",
     "output_type": "stream",
     "text": [
      "Initialised with 1 image(s) found.\n",
      "Output directory set to D:/Bambhari/Original Images/Umbrella_Mushroom\\output."
     ]
    }
   ],
   "source": [
    "p = aug.Pipeline('D:/Bambhari/Original Images/Umbrella_Mushroom')"
   ]
  },
  {
   "cell_type": "code",
   "execution_count": 37,
   "metadata": {},
   "outputs": [],
   "source": [
    "p.rotate(probability = 0.7, max_left_rotation = 10, max_right_rotation = 10)\n",
    "p.flip_left_right(probability = 0.5)\n",
    "p.flip_top_bottom(probability = 0.5)\n",
    "p.resize(probability = 1.0, width = 120, height = 120)"
   ]
  },
  {
   "cell_type": "code",
   "execution_count": 38,
   "metadata": {},
   "outputs": [
    {
     "name": "stderr",
     "output_type": "stream",
     "text": [
      "Processing <PIL.Image.Image image mode=P size=120x120 at 0x2323FBBA5F0>: 100%|██████████| 100/100 [00:00<00:00, 202.74 Samples/s]\n"
     ]
    }
   ],
   "source": [
    "p.sample(100)"
   ]
  },
  {
   "cell_type": "code",
   "execution_count": null,
   "metadata": {},
   "outputs": [],
   "source": []
  }
 ],
 "metadata": {
  "kernelspec": {
   "display_name": "Python 3",
   "language": "python",
   "name": "python3"
  },
  "language_info": {
   "codemirror_mode": {
    "name": "ipython",
    "version": 3
   },
   "file_extension": ".py",
   "mimetype": "text/x-python",
   "name": "python",
   "nbconvert_exporter": "python",
   "pygments_lexer": "ipython3",
   "version": "3.10.7"
  },
  "orig_nbformat": 4
 },
 "nbformat": 4,
 "nbformat_minor": 2
}
